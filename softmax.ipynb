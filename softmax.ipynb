{
 "cells": [
  {
   "cell_type": "code",
   "execution_count": 13,
   "metadata": {
    "collapsed": true
   },
   "outputs": [],
   "source": [
    "import pandas as pd \n",
    "import numpy as np \n",
    "import tensorflow as tf \n",
    "from random import randint\n",
    "from tensorflow.python import debug as tf_debug\n",
    "from dataproc import to_array, randomsample, to_onehot\n",
    "from tensorflow.examples.tutorials.mnist import input_data"
   ]
  },
  {
   "cell_type": "code",
   "execution_count": 14,
   "metadata": {
    "collapsed": false
   },
   "outputs": [],
   "source": [
    "arr_train = to_array('data/train.csv')\n",
    "arr_test = to_array('data/test.csv')"
   ]
  },
  {
   "cell_type": "code",
   "execution_count": 15,
   "metadata": {
    "collapsed": true
   },
   "outputs": [],
   "source": [
    "x = tf.placeholder(tf.float32, [None, 784])\n",
    "W = tf.Variable(tf.zeros([784, 10]))\n",
    "b = tf.Variable(tf.zeros([10]))\n",
    "\n",
    "y = tf.matmul(x, W) + b\n"
   ]
  },
  {
   "cell_type": "code",
   "execution_count": 16,
   "metadata": {
    "collapsed": true
   },
   "outputs": [],
   "source": [
    "# tensor to hold cross-entropy results\n",
    "y_ = tf.placeholder(tf.float32, [None, 10])\n",
    "cross_entropy = tf.reduce_mean(tf.nn.softmax_cross_entropy_with_logits(labels=y_, logits=y))\n",
    "train_step = tf.train.GradientDescentOptimizer(0.5).minimize(cross_entropy)"
   ]
  },
  {
   "cell_type": "code",
   "execution_count": 17,
   "metadata": {
    "collapsed": false
   },
   "outputs": [
    {
     "name": "stdout",
     "output_type": "stream",
     "text": [
      "[[  66751.6328125  -224336.953125    337047.5        ...,  -73773.5\n",
      "    72837.1953125   -16237.09472656]\n",
      " [ 269267.9375     -125613.453125     71806.6484375  ...,  -43641.84765625\n",
      "    75824.2265625  -124574.5390625 ]\n",
      " [-103084.8125      -46007.4765625   -39646.1171875  ...,   -5897.55712891\n",
      "    78326.015625    103037.1171875 ]\n",
      " ..., \n",
      " [ -67484.59375       3442.0144043   -25147.94335938 ...,  -24583.97851562\n",
      "    96848.984375     31158.17773438]\n",
      " [ -65360.0390625  -117343.984375    -96296.9296875  ...,    3519.22412109\n",
      "    20170.84375     248244.84375   ]\n",
      " [  31367.90234375 -180855.265625    256350.359375   ..., -175795.671875\n",
      "    86822.125        53706.1015625 ]]\n",
      "Accuracy: 1.00 \n"
     ]
    }
   ],
   "source": [
    "with tf.Session() as sess:\n",
    "    tf.global_variables_initializer().run()\n",
    "\n",
    "    for i in range(1000):\n",
    "        start_row, end_row = randomsample(arr_train, 100)\n",
    "        # first column of arr_train is labels so we exlude that\n",
    "        a = arr_train[start_row + 1]\n",
    "        x_train = arr_train[start_row:end_row, 1:] \n",
    "        # want only the first column - i.e labels 0-9 so we can encode them as one-hots\n",
    "        y_raw = arr_train[start_row:end_row, 0]\n",
    "        y_train = to_onehot(y_raw)\n",
    "        sess.run(train_step, feed_dict={x: x_train, y_: y_train})\n",
    "\n",
    "    x_test = arr_test\n",
    "    feed_dict = {x: x_test}\n",
    "    y_test = sess.run(y, feed_dict)\n",
    "    print(y_test)\n",
    "    \n",
    "    correct_prediction = tf.equal(tf.argmax(y,1), tf.argmax(y_,1))\n",
    "    accuracy = tf.reduce_mean(tf.cast(correct_prediction, tf.float32))\n",
    "\n",
    "    print (\"Accuracy: %.2f \" %( float(sess.run(accuracy, feed_dict={x: x_test, y_: y_test}))))"
   ]
  },
  {
   "cell_type": "code",
   "execution_count": null,
   "metadata": {
    "collapsed": false
   },
   "outputs": [],
   "source": []
  },
  {
   "cell_type": "code",
   "execution_count": null,
   "metadata": {
    "collapsed": true
   },
   "outputs": [],
   "source": []
  }
 ],
 "metadata": {
  "kernelspec": {
   "display_name": "Python 3",
   "language": "python",
   "name": "python3"
  },
  "language_info": {
   "codemirror_mode": {
    "name": "ipython",
    "version": 3
   },
   "file_extension": ".py",
   "mimetype": "text/x-python",
   "name": "python",
   "nbconvert_exporter": "python",
   "pygments_lexer": "ipython3",
   "version": "3.5.1"
  }
 },
 "nbformat": 4,
 "nbformat_minor": 1
}
